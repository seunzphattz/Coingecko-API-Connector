{
 "cells": [
  {
   "cell_type": "markdown",
   "id": "a3eeaaa9",
   "metadata": {},
   "source": [
    "# Application Programming API"
   ]
  },
  {
   "cell_type": "markdown",
   "id": "e3d5daa3",
   "metadata": {},
   "source": [
    "## Objective: To be able to create and use API in python"
   ]
  },
  {
   "cell_type": "markdown",
   "id": "feba9f76",
   "metadata": {},
   "source": [
    "### Introduction:\n",
    "API let two pieces of softwares talk to each other\n",
    "\n",
    "* Pandas API\n",
    "* REST API"
   ]
  },
  {
   "cell_type": "code",
   "execution_count": 9,
   "id": "365a437c",
   "metadata": {},
   "outputs": [
    {
     "name": "stdout",
     "output_type": "stream",
     "text": [
      "Collecting pycoingecko\n",
      "  Using cached pycoingecko-2.2.0-py3-none-any.whl (8.3 kB)\n",
      "Requirement already satisfied: requests in c:\\users\\fatinikun\\anaconda3\\lib\\site-packages (from pycoingecko) (2.25.1)\n",
      "Requirement already satisfied: certifi>=2017.4.17 in c:\\users\\fatinikun\\anaconda3\\lib\\site-packages (from requests->pycoingecko) (2020.12.5)\n",
      "Requirement already satisfied: urllib3<1.27,>=1.21.1 in c:\\users\\fatinikun\\anaconda3\\lib\\site-packages (from requests->pycoingecko) (1.26.4)\n",
      "Requirement already satisfied: chardet<5,>=3.0.2 in c:\\users\\fatinikun\\anaconda3\\lib\\site-packages (from requests->pycoingecko) (4.0.0)\n",
      "Requirement already satisfied: idna<3,>=2.5 in c:\\users\\fatinikun\\anaconda3\\lib\\site-packages (from requests->pycoingecko) (2.10)\n",
      "Installing collected packages: pycoingecko\n",
      "Successfully installed pycoingecko-2.2.0\n",
      "Collecting plotly\n",
      "  Downloading plotly-5.9.0-py2.py3-none-any.whl (15.2 MB)\n",
      "Collecting tenacity>=6.2.0\n",
      "  Downloading tenacity-8.0.1-py3-none-any.whl (24 kB)\n",
      "Installing collected packages: tenacity, plotly\n",
      "Successfully installed plotly-5.9.0 tenacity-8.0.1\n",
      "Collecting mplfinance\n",
      "  Downloading mplfinance-0.12.9b1-py3-none-any.whl (70 kB)\n",
      "Requirement already satisfied: pandas in c:\\users\\fatinikun\\anaconda3\\lib\\site-packages (from mplfinance) (1.2.4)\n",
      "Requirement already satisfied: matplotlib in c:\\users\\fatinikun\\anaconda3\\lib\\site-packages (from mplfinance) (3.3.4)\n",
      "Requirement already satisfied: cycler>=0.10 in c:\\users\\fatinikun\\anaconda3\\lib\\site-packages (from matplotlib->mplfinance) (0.10.0)\n",
      "Requirement already satisfied: pyparsing!=2.0.4,!=2.1.2,!=2.1.6,>=2.0.3 in c:\\users\\fatinikun\\anaconda3\\lib\\site-packages (from matplotlib->mplfinance) (2.4.7)\n",
      "Requirement already satisfied: pillow>=6.2.0 in c:\\users\\fatinikun\\anaconda3\\lib\\site-packages (from matplotlib->mplfinance) (8.2.0)\n",
      "Requirement already satisfied: python-dateutil>=2.1 in c:\\users\\fatinikun\\anaconda3\\lib\\site-packages (from matplotlib->mplfinance) (2.8.1)\n",
      "Requirement already satisfied: numpy>=1.15 in c:\\users\\fatinikun\\anaconda3\\lib\\site-packages (from matplotlib->mplfinance) (1.20.1)\n",
      "Requirement already satisfied: kiwisolver>=1.0.1 in c:\\users\\fatinikun\\anaconda3\\lib\\site-packages (from matplotlib->mplfinance) (1.3.1)\n",
      "Requirement already satisfied: six in c:\\users\\fatinikun\\anaconda3\\lib\\site-packages (from cycler>=0.10->matplotlib->mplfinance) (1.15.0)\n",
      "Requirement already satisfied: pytz>=2017.3 in c:\\users\\fatinikun\\anaconda3\\lib\\site-packages (from pandas->mplfinance) (2021.1)\n",
      "Installing collected packages: mplfinance\n",
      "Successfully installed mplfinance-0.12.9b1\n"
     ]
    }
   ],
   "source": [
    "!pip install pycoingecko\n",
    "!pip install plotly\n",
    "!pip install mplfinance"
   ]
  },
  {
   "cell_type": "code",
   "execution_count": 11,
   "id": "aa1f4471",
   "metadata": {},
   "outputs": [],
   "source": [
    "from pycoingecko import CoinGeckoAPI\n",
    "import pandas as pd\n",
    "import numpy as np\n",
    "import matplotlib.pyplot as plt\n",
    "import datetime as dt\n",
    "from mplfinance.original_flavor import candlestick2_ohlc\n",
    "import plotly.graph_objects as go\n",
    "from plotly.offline import plot"
   ]
  },
  {
   "cell_type": "code",
   "execution_count": 15,
   "id": "bbc93509",
   "metadata": {},
   "outputs": [],
   "source": [
    "# use the pandas objected created to communicate with the API"
   ]
  },
  {
   "cell_type": "code",
   "execution_count": 16,
   "id": "950f7333",
   "metadata": {},
   "outputs": [
    {
     "data": {
      "text/plain": [
       "pandas.core.frame.DataFrame"
      ]
     },
     "execution_count": 16,
     "metadata": {},
     "output_type": "execute_result"
    }
   ],
   "source": [
    "type(df)"
   ]
  },
  {
   "cell_type": "code",
   "execution_count": 18,
   "id": "17d67e99",
   "metadata": {},
   "outputs": [],
   "source": [
    "cg = CoinGeckoAPI()"
   ]
  },
  {
   "cell_type": "code",
   "execution_count": 19,
   "id": "c8f51c5d",
   "metadata": {},
   "outputs": [
    {
     "data": {
      "text/plain": [
       "{'gecko_says': '(V3) To the Moon!'}"
      ]
     },
     "execution_count": 19,
     "metadata": {},
     "output_type": "execute_result"
    }
   ],
   "source": [
    "cg.ping()"
   ]
  },
  {
   "cell_type": "code",
   "execution_count": 23,
   "id": "c71d47fb",
   "metadata": {},
   "outputs": [],
   "source": [
    "\n",
    "data_object = cg.get_coin_market_chart_by_id(id=\"bitcoin\", vs_currency=\"usd\", days=30)"
   ]
  },
  {
   "cell_type": "code",
   "execution_count": 24,
   "id": "8e8f100d",
   "metadata": {},
   "outputs": [
    {
     "data": {
      "text/plain": [
       "dict"
      ]
     },
     "execution_count": 24,
     "metadata": {},
     "output_type": "execute_result"
    }
   ],
   "source": [
    "type(data_object)"
   ]
  },
  {
   "cell_type": "code",
   "execution_count": 26,
   "id": "9b2bfee9",
   "metadata": {},
   "outputs": [],
   "source": [
    "bitcoin_price_data = data_object[\"prices\"]"
   ]
  },
  {
   "cell_type": "code",
   "execution_count": 27,
   "id": "322c7003",
   "metadata": {},
   "outputs": [
    {
     "data": {
      "text/plain": [
       "[[1655632906806, 19038.028500686545],\n",
       " [1655636464841, 19803.585029329173],\n",
       " [1655640083689, 19691.335301496376],\n",
       " [1655643714272, 19410.381447897245],\n",
       " [1655647248009, 19347.739498723444]]"
      ]
     },
     "execution_count": 27,
     "metadata": {},
     "output_type": "execute_result"
    }
   ],
   "source": [
    "bitcoin_price_data[0:5] "
   ]
  },
  {
   "cell_type": "code",
   "execution_count": 30,
   "id": "bf8c3f99",
   "metadata": {},
   "outputs": [
    {
     "data": {
      "text/html": [
       "<div>\n",
       "<style scoped>\n",
       "    .dataframe tbody tr th:only-of-type {\n",
       "        vertical-align: middle;\n",
       "    }\n",
       "\n",
       "    .dataframe tbody tr th {\n",
       "        vertical-align: top;\n",
       "    }\n",
       "\n",
       "    .dataframe thead th {\n",
       "        text-align: right;\n",
       "    }\n",
       "</style>\n",
       "<table border=\"1\" class=\"dataframe\">\n",
       "  <thead>\n",
       "    <tr style=\"text-align: right;\">\n",
       "      <th></th>\n",
       "      <th>Timestamps</th>\n",
       "      <th>Price</th>\n",
       "    </tr>\n",
       "  </thead>\n",
       "  <tbody>\n",
       "    <tr>\n",
       "      <th>0</th>\n",
       "      <td>1655632906806</td>\n",
       "      <td>19038.028501</td>\n",
       "    </tr>\n",
       "    <tr>\n",
       "      <th>1</th>\n",
       "      <td>1655636464841</td>\n",
       "      <td>19803.585029</td>\n",
       "    </tr>\n",
       "    <tr>\n",
       "      <th>2</th>\n",
       "      <td>1655640083689</td>\n",
       "      <td>19691.335301</td>\n",
       "    </tr>\n",
       "    <tr>\n",
       "      <th>3</th>\n",
       "      <td>1655643714272</td>\n",
       "      <td>19410.381448</td>\n",
       "    </tr>\n",
       "    <tr>\n",
       "      <th>4</th>\n",
       "      <td>1655647248009</td>\n",
       "      <td>19347.739499</td>\n",
       "    </tr>\n",
       "    <tr>\n",
       "      <th>...</th>\n",
       "      <td>...</td>\n",
       "      <td>...</td>\n",
       "    </tr>\n",
       "    <tr>\n",
       "      <th>715</th>\n",
       "      <td>1658207149549</td>\n",
       "      <td>21921.715100</td>\n",
       "    </tr>\n",
       "    <tr>\n",
       "      <th>716</th>\n",
       "      <td>1658210432351</td>\n",
       "      <td>22043.275607</td>\n",
       "    </tr>\n",
       "    <tr>\n",
       "      <th>717</th>\n",
       "      <td>1658214008457</td>\n",
       "      <td>21804.297159</td>\n",
       "    </tr>\n",
       "    <tr>\n",
       "      <th>718</th>\n",
       "      <td>1658217624684</td>\n",
       "      <td>21766.862634</td>\n",
       "    </tr>\n",
       "    <tr>\n",
       "      <th>719</th>\n",
       "      <td>1658222072000</td>\n",
       "      <td>21889.071465</td>\n",
       "    </tr>\n",
       "  </tbody>\n",
       "</table>\n",
       "<p>720 rows × 2 columns</p>\n",
       "</div>"
      ],
      "text/plain": [
       "        Timestamps         Price\n",
       "0    1655632906806  19038.028501\n",
       "1    1655636464841  19803.585029\n",
       "2    1655640083689  19691.335301\n",
       "3    1655643714272  19410.381448\n",
       "4    1655647248009  19347.739499\n",
       "..             ...           ...\n",
       "715  1658207149549  21921.715100\n",
       "716  1658210432351  22043.275607\n",
       "717  1658214008457  21804.297159\n",
       "718  1658217624684  21766.862634\n",
       "719  1658222072000  21889.071465\n",
       "\n",
       "[720 rows x 2 columns]"
      ]
     },
     "execution_count": 30,
     "metadata": {},
     "output_type": "execute_result"
    }
   ],
   "source": [
    "data = pd.DataFrame(bitcoin_price_data, columns = [\"Timestamps\", \"Price\"])\n",
    "data\n"
   ]
  }
 ],
 "metadata": {
  "kernelspec": {
   "display_name": "Python 3 (ipykernel)",
   "language": "python",
   "name": "python3"
  },
  "language_info": {
   "codemirror_mode": {
    "name": "ipython",
    "version": 3
   },
   "file_extension": ".py",
   "mimetype": "text/x-python",
   "name": "python",
   "nbconvert_exporter": "python",
   "pygments_lexer": "ipython3",
   "version": "3.10.9"
  }
 },
 "nbformat": 4,
 "nbformat_minor": 5
}
